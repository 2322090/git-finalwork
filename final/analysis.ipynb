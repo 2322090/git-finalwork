{
 "cells": [
  {
   "cell_type": "code",
   "execution_count": 21,
   "metadata": {},
   "outputs": [],
   "source": [
    "import pandas as pd\n",
    "import sqlite3\n",
    "import matplotlib.pyplot as plt"
   ]
  },
  {
   "cell_type": "code",
   "execution_count": 22,
   "metadata": {},
   "outputs": [],
   "source": [
    "# SQLiteデータベースへの接続\n",
    "path = '/Users/matsumotohikari/ds2/finalwork/git-finalwork/'\n",
    "db_name_whether = 'whether_db.sqlite'\n",
    "db_name_step = 'step_db.sqlite'\n",
    "con_whether = sqlite3.connect(path + db_name_whether)\n",
    "con_step = sqlite3.connect(path + db_name_step)"
   ]
  },
  {
   "cell_type": "code",
   "execution_count": 23,
   "metadata": {},
   "outputs": [],
   "source": [
    "whether ='SELECT * FROM tem;'\n",
    "step = 'SELECT * FROM STEP;'\n",
    "\n",
    "df_whether = pd.read_sql_query(whether, con_whether)\n",
    "df_step = pd.read_sql_query(step, con_step)"
   ]
  },
  {
   "cell_type": "code",
   "execution_count": 24,
   "metadata": {},
   "outputs": [
    {
     "name": "stdout",
     "output_type": "stream",
     "text": [
      "    temperature\n",
      "0           7.3\n",
      "1           6.5\n",
      "2           7.1\n",
      "3          10.8\n",
      "4           5.9\n",
      "5           3.8\n",
      "6           3.4\n",
      "7           4.6\n",
      "8           3.3\n",
      "9           1.5\n",
      "10          0.1\n",
      "11          2.0\n",
      "12          1.0\n",
      "13          2.6\n",
      "14          4.3\n",
      "15          4.4\n",
      "16          2.2\n",
      "17          4.4\n",
      "18          5.8\n",
      "          date     step\n",
      "0   2023/12/13   8732.0\n",
      "1   2023/12/14   8654.0\n",
      "2   2023/12/15   8931.0\n",
      "3   2023/12/16   6949.0\n",
      "4   2023/12/17   5719.0\n",
      "5   2023/12/18   8520.0\n",
      "6   2023/12/19  15097.0\n",
      "7   2023/12/20   8069.0\n",
      "8   2023/12/21  14321.0\n",
      "9   2023/12/22  10325.0\n",
      "10  2023/12/23  14908.0\n",
      "11  2023/12/24   9996.0\n",
      "12  2023/12/25  10024.0\n",
      "13  2023/12/26  12311.0\n",
      "14  2023/12/27  10343.0\n",
      "15  2023/12/28   3705.0\n",
      "16  2023/12/29   5748.0\n",
      "17  2023/12/30   5866.0\n",
      "18  2023/12/31   7729.0\n"
     ]
    }
   ],
   "source": [
    "print(df_whether)\n",
    "print(df_step)"
   ]
  },
  {
   "cell_type": "code",
   "execution_count": 25,
   "metadata": {},
   "outputs": [
    {
     "name": "stdout",
     "output_type": "stream",
     "text": [
      "df_whether columns: Index(['temperature'], dtype='object')\n",
      "df_step columns: Index(['date', 'step'], dtype='object')\n"
     ]
    }
   ],
   "source": [
    "print(\"df_whether columns:\", df_whether.columns)\n",
    "print(\"df_step columns:\", df_step.columns)"
   ]
  },
  {
   "cell_type": "code",
   "execution_count": 26,
   "metadata": {},
   "outputs": [
    {
     "name": "stdout",
     "output_type": "stream",
     "text": [
      "          date     step  temperature\n",
      "0   2023/12/13   8732.0          7.3\n",
      "1   2023/12/14   8654.0          6.5\n",
      "2   2023/12/15   8931.0          7.1\n",
      "3   2023/12/16   6949.0         10.8\n",
      "4   2023/12/17   5719.0          5.9\n",
      "5   2023/12/18   8520.0          3.8\n",
      "6   2023/12/19  15097.0          3.4\n",
      "7   2023/12/20   8069.0          4.6\n",
      "8   2023/12/21  14321.0          3.3\n",
      "9   2023/12/22  10325.0          1.5\n",
      "10  2023/12/23  14908.0          0.1\n",
      "11  2023/12/24   9996.0          2.0\n",
      "12  2023/12/25  10024.0          1.0\n",
      "13  2023/12/26  12311.0          2.6\n",
      "14  2023/12/27  10343.0          4.3\n",
      "15  2023/12/28   3705.0          4.4\n",
      "16  2023/12/29   5748.0          2.2\n",
      "17  2023/12/30   5866.0          4.4\n",
      "18  2023/12/31   7729.0          5.8\n"
     ]
    }
   ],
   "source": [
    "# 列方向に結合\n",
    "merged_df = pd.concat([df_step, df_whether], axis=1)\n",
    "# 結合結果の表示\n",
    "print(merged_df)"
   ]
  },
  {
   "cell_type": "code",
   "execution_count": 27,
   "metadata": {},
   "outputs": [
    {
     "name": "stdout",
     "output_type": "stream",
     "text": [
      "          date     step  temperature\n",
      "10  2023/12/23  14908.0          0.1\n",
      "12  2023/12/25  10024.0          1.0\n",
      "9   2023/12/22  10325.0          1.5\n",
      "11  2023/12/24   9996.0          2.0\n",
      "16  2023/12/29   5748.0          2.2\n",
      "13  2023/12/26  12311.0          2.6\n",
      "8   2023/12/21  14321.0          3.3\n",
      "6   2023/12/19  15097.0          3.4\n",
      "5   2023/12/18   8520.0          3.8\n",
      "14  2023/12/27  10343.0          4.3\n",
      "15  2023/12/28   3705.0          4.4\n",
      "17  2023/12/30   5866.0          4.4\n",
      "7   2023/12/20   8069.0          4.6\n",
      "18  2023/12/31   7729.0          5.8\n",
      "4   2023/12/17   5719.0          5.9\n",
      "1   2023/12/14   8654.0          6.5\n",
      "2   2023/12/15   8931.0          7.1\n",
      "0   2023/12/13   8732.0          7.3\n",
      "3   2023/12/16   6949.0         10.8\n"
     ]
    }
   ],
   "source": [
    "# 'temperature' 列を基準に昇順（低い順）に並べ替え\n",
    "sorted_df = merged_df.sort_values(by='temperature')\n",
    "\n",
    "# 結果の表示\n",
    "print(sorted_df)"
   ]
  },
  {
   "cell_type": "code",
   "execution_count": 28,
   "metadata": {},
   "outputs": [
    {
     "data": {
      "image/png": "[encoded data removed]",
      "text/plain": [
       "<Figure size 640x480 with 1 Axes>"
      ]
     },
     "metadata": {},
     "output_type": "display_data"
    }
   ],
   "source": [
    "# 棒グラフの描画\n",
    "plt.bar(sorted_df['temperature'], sorted_df['step'])\n",
    "\n",
    "# 軸ラベルの設定\n",
    "plt.xlabel('Temperature')\n",
    "plt.ylabel('Step')\n",
    "\n",
    "# グラフのタイトル設定\n",
    "plt.title('Step vs Temperature')\n",
    "\n",
    "# グリッドの表示（任意）\n",
    "plt.grid(True)\n",
    "\n",
    "# グラフの表示\n",
    "plt.show()"
   ]
  }
 ],
 "metadata": {
  "kernelspec": {
   "display_name": "Python 3",
   "language": "python",
   "name": "python3"
  },
  "language_info": {
   "codemirror_mode": {
    "name": "ipython",
    "version": 3
   },
   "file_extension": ".py",
   "mimetype": "text/x-python",
   "name": "python",
   "nbconvert_exporter": "python",
   "pygments_lexer": "ipython3",
   "version": "3.9.6"
  }
 },
 "nbformat": 4,
 "nbformat_minor": 2
}
